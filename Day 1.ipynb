{
 "cells": [
  {
   "cell_type": "code",
   "execution_count": 3,
   "id": "e9e0a095",
   "metadata": {},
   "outputs": [
    {
     "name": "stdout",
     "output_type": "stream",
     "text": [
      "Hello World\n",
      "print('hello')\n"
     ]
    }
   ],
   "source": [
    "print(\"Hello World\")\n",
    "print(\"print('hello')\")"
   ]
  },
  {
   "cell_type": "code",
   "execution_count": 4,
   "id": "a661cd71",
   "metadata": {},
   "outputs": [
    {
     "name": "stdout",
     "output_type": "stream",
     "text": [
      "Hello\n",
      "Hello\n"
     ]
    }
   ],
   "source": [
    "print(\"Hello\\nHello\")"
   ]
  },
  {
   "cell_type": "code",
   "execution_count": 5,
   "id": "624b0ed8",
   "metadata": {},
   "outputs": [
    {
     "name": "stdout",
     "output_type": "stream",
     "text": [
      "HelloHarsheen\n"
     ]
    }
   ],
   "source": [
    "print(\"Hello\"+\"Harsheen\")"
   ]
  },
  {
   "cell_type": "code",
   "execution_count": 6,
   "id": "71881bb5",
   "metadata": {},
   "outputs": [
    {
     "name": "stdout",
     "output_type": "stream",
     "text": [
      "Hello Harsheen\n"
     ]
    }
   ],
   "source": [
    "print(\"Hello\"+\" Harsheen\")"
   ]
  },
  {
   "cell_type": "code",
   "execution_count": 1,
   "id": "8a85d72b",
   "metadata": {},
   "outputs": [
    {
     "name": "stdout",
     "output_type": "stream",
     "text": [
      "What is your name? Harsheen\n",
      "Hello Harsheen\n"
     ]
    }
   ],
   "source": [
    "#input() will get user input\n",
    "#Then print() will print the word Hello with the user input\n",
    "print(\"Hello \"+ input(\"What is your name? \"))"
   ]
  },
  {
   "cell_type": "code",
   "execution_count": 2,
   "id": "a87ad72e",
   "metadata": {},
   "outputs": [
    {
     "name": "stdout",
     "output_type": "stream",
     "text": [
      "Harsheen\n",
      "8\n"
     ]
    }
   ],
   "source": [
    "print(len(input()))"
   ]
  },
  {
   "cell_type": "code",
   "execution_count": 3,
   "id": "a741bb17",
   "metadata": {},
   "outputs": [
    {
     "name": "stdout",
     "output_type": "stream",
     "text": [
      "jack\n",
      "angela\n"
     ]
    }
   ],
   "source": [
    "name=\"jack\"\n",
    "print(name)\n",
    "name=\"angela\"\n",
    "print(name)"
   ]
  },
  {
   "cell_type": "code",
   "execution_count": 4,
   "id": "06c5c91e",
   "metadata": {},
   "outputs": [
    {
     "name": "stdout",
     "output_type": "stream",
     "text": [
      "Welcome to the band name generator!\n",
      "What's the name of the city you grew up in?\n",
      "Delhi\n",
      "What's your pet's name?\n",
      "Dash\n",
      "Your band name could be Delhi Dash\n"
     ]
    }
   ],
   "source": [
    "#FINAL PROJECT OF DAY 1\n",
    "# BAND NAME GENERATOR\n",
    "print(\"Welcome to the band name generator!\")\n",
    "city=input(\"What's the name of the city you grew up in?\\n\")\n",
    "pet=input(\"What's your pet's name?\\n\")\n",
    "print(\"Your band name could be \"+city+\" \"+pet)"
   ]
  },
  {
   "cell_type": "code",
   "execution_count": null,
   "id": "ff84d575",
   "metadata": {},
   "outputs": [],
   "source": []
  }
 ],
 "metadata": {
  "kernelspec": {
   "display_name": "Python 3",
   "language": "python",
   "name": "python3"
  },
  "language_info": {
   "codemirror_mode": {
    "name": "ipython",
    "version": 3
   },
   "file_extension": ".py",
   "mimetype": "text/x-python",
   "name": "python",
   "nbconvert_exporter": "python",
   "pygments_lexer": "ipython3",
   "version": "3.6.5"
  }
 },
 "nbformat": 4,
 "nbformat_minor": 5
}
