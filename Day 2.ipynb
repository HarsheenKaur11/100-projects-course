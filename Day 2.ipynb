{
 "cells": [
  {
   "cell_type": "code",
   "execution_count": 5,
   "id": "2e4eff67",
   "metadata": {},
   "outputs": [
    {
     "name": "stdout",
     "output_type": "stream",
     "text": [
      "o\n"
     ]
    }
   ],
   "source": [
    "#Data Types\n",
    "#string\n",
    "print(\"Hello\"[4])"
   ]
  },
  {
   "cell_type": "code",
   "execution_count": 6,
   "id": "342c2315",
   "metadata": {},
   "outputs": [
    {
     "name": "stdout",
     "output_type": "stream",
     "text": [
      "123456\n",
      "579\n"
     ]
    }
   ],
   "source": [
    "print(\"123\"+\"456\") #string data type\n",
    "print(123+456)     #integer data type"
   ]
  },
  {
   "cell_type": "code",
   "execution_count": 7,
   "id": "a2d2594b",
   "metadata": {},
   "outputs": [
    {
     "name": "stdout",
     "output_type": "stream",
     "text": [
      "124567\n"
     ]
    }
   ],
   "source": [
    "print(12_45_67)  #underscores will not be printed in integers"
   ]
  },
  {
   "cell_type": "code",
   "execution_count": 8,
   "id": "e02625fc",
   "metadata": {},
   "outputs": [
    {
     "name": "stdout",
     "output_type": "stream",
     "text": [
      "3.145 <class 'float'>\n"
     ]
    }
   ],
   "source": [
    "#float\n",
    "print(3.145,type(3.145))"
   ]
  },
  {
   "cell_type": "code",
   "execution_count": 9,
   "id": "ea7e5f3d",
   "metadata": {},
   "outputs": [
    {
     "name": "stdout",
     "output_type": "stream",
     "text": [
      "True <class 'bool'>\n"
     ]
    }
   ],
   "source": [
    "#boolean\n",
    "#True(capital T)\n",
    "#False(capital F)\n",
    "print(True,type(True))"
   ]
  },
  {
   "cell_type": "code",
   "execution_count": 13,
   "id": "6f1c6974",
   "metadata": {},
   "outputs": [
    {
     "ename": "TypeError",
     "evalue": "object of type 'int' has no len()",
     "output_type": "error",
     "traceback": [
      "\u001b[1;31m---------------------------------------------------------------------------\u001b[0m",
      "\u001b[1;31mTypeError\u001b[0m                                 Traceback (most recent call last)",
      "\u001b[1;32m<ipython-input-13-aa926790d580>\u001b[0m in \u001b[0;36m<module>\u001b[1;34m\u001b[0m\n\u001b[0;32m      1\u001b[0m \u001b[1;31m#typeerror\u001b[0m\u001b[1;33m\u001b[0m\u001b[1;33m\u001b[0m\u001b[0m\n\u001b[1;32m----> 2\u001b[1;33m \u001b[0mprint\u001b[0m\u001b[1;33m(\u001b[0m\u001b[0mlen\u001b[0m\u001b[1;33m(\u001b[0m\u001b[1;36m123\u001b[0m\u001b[1;33m)\u001b[0m\u001b[1;33m)\u001b[0m  \u001b[1;31m#len do not works with integer\u001b[0m\u001b[1;33m\u001b[0m\u001b[0m\n\u001b[0m",
      "\u001b[1;31mTypeError\u001b[0m: object of type 'int' has no len()"
     ]
    }
   ],
   "source": [
    "#typeerror\n",
    "print(len(123))  #len do not works with integer"
   ]
  },
  {
   "cell_type": "code",
   "execution_count": 14,
   "id": "f1d6223a",
   "metadata": {},
   "outputs": [
    {
     "ename": "TypeError",
     "evalue": "must be str, not int",
     "output_type": "error",
     "traceback": [
      "\u001b[1;31m---------------------------------------------------------------------------\u001b[0m",
      "\u001b[1;31mTypeError\u001b[0m                                 Traceback (most recent call last)",
      "\u001b[1;32m<ipython-input-14-a9ecd0142e2a>\u001b[0m in \u001b[0;36m<module>\u001b[1;34m\u001b[0m\n\u001b[1;32m----> 1\u001b[1;33m \u001b[0mprint\u001b[0m\u001b[1;33m(\u001b[0m\u001b[1;34m\"Hello\"\u001b[0m\u001b[1;33m+\u001b[0m\u001b[1;36m123\u001b[0m\u001b[1;33m)\u001b[0m  \u001b[1;31m#string plus integer\u001b[0m\u001b[1;33m\u001b[0m\u001b[0m\n\u001b[0m",
      "\u001b[1;31mTypeError\u001b[0m: must be str, not int"
     ]
    }
   ],
   "source": [
    "#typeerror\n",
    "print(\"Hello\"+123)  #string plus integer"
   ]
  },
  {
   "cell_type": "code",
   "execution_count": 1,
   "id": "7735c985",
   "metadata": {},
   "outputs": [
    {
     "name": "stdout",
     "output_type": "stream",
     "text": [
      "Enter your nameharsheen\n",
      "Your name has 8 characters\n"
     ]
    }
   ],
   "source": [
    "name=len(input(\"Enter your name\"))\n",
    "no=str(name)\n",
    "print(\"Your name has \"+ no + \" characters\")   #string plus integers without error"
   ]
  },
  {
   "cell_type": "code",
   "execution_count": 3,
   "id": "20b04b1c",
   "metadata": {},
   "outputs": [
    {
     "name": "stdout",
     "output_type": "stream",
     "text": [
      "170.5\n"
     ]
    }
   ],
   "source": [
    "#implicit conversion\n",
    "print(70+ float(\"100.5\"))  #mix of different data types"
   ]
  },
  {
   "cell_type": "code",
   "execution_count": 4,
   "id": "23f71b36",
   "metadata": {},
   "outputs": [
    {
     "name": "stdout",
     "output_type": "stream",
     "text": [
      "8 3 6 2.0 8\n"
     ]
    }
   ],
   "source": [
    "#mathematical operations\n",
    "a=3+5\n",
    "b=7-4\n",
    "c=3*2\n",
    "d=6/3  #gives float result\n",
    "e=2**3\n",
    "print(a,b,c,d,e)\n",
    "#order of priority\n",
    "#parenthesis\n",
    "#exponent\n",
    "#division multiplication\n",
    "#addition subtraction"
   ]
  },
  {
   "cell_type": "code",
   "execution_count": 5,
   "id": "a2ee0475",
   "metadata": {},
   "outputs": [
    {
     "name": "stdout",
     "output_type": "stream",
     "text": [
      "2.6666666666666665\n",
      "3\n",
      "2.67\n"
     ]
    }
   ],
   "source": [
    "#round function\n",
    "print(8/3)\n",
    "print(round(8/3))\n",
    "print(round(8/3,2))"
   ]
  },
  {
   "cell_type": "code",
   "execution_count": 8,
   "id": "ddba0760",
   "metadata": {},
   "outputs": [
    {
     "name": "stdout",
     "output_type": "stream",
     "text": [
      "2\n",
      "2\n"
     ]
    }
   ],
   "source": [
    "#floor division\n",
    "print(int(8/3))\n",
    "print(8//3) #gives a whole integer without type conversion"
   ]
  },
  {
   "cell_type": "code",
   "execution_count": 10,
   "id": "7dec3122",
   "metadata": {},
   "outputs": [
    {
     "name": "stdout",
     "output_type": "stream",
     "text": [
      "a is 0, b is 1.5 and c is True\n"
     ]
    }
   ],
   "source": [
    "#f-strings\n",
    "a=0\n",
    "b=1.5\n",
    "c=True\n",
    "print(f\"a is {a}, b is {b} and c is {c}\")"
   ]
  },
  {
   "cell_type": "code",
   "execution_count": 2,
   "id": "bb53c9f1",
   "metadata": {},
   "outputs": [
    {
     "name": "stdout",
     "output_type": "stream",
     "text": [
      "Welcome to the tip calculator.\n",
      "What was the total bill? 124.56\n",
      "What percentage tip do you wish to give? 10, 12 or 15? 12\n",
      "How many people to split the bill? 7\n",
      "Each person should pay: 19.93\n"
     ]
    }
   ],
   "source": [
    "#final project\n",
    "#Tip calculator\n",
    "print(\"Welcome to the tip calculator.\")\n",
    "total=eval(input(\"What was the total bill? \"))\n",
    "tip=eval(input(\"What percentage tip do you wish to give? 10, 12 or 15? \"))\n",
    "split=eval(input(\"How many people to split the bill? \"))\n",
    "total1=(((tip/100)*total)+total)\n",
    "tip2=round((total1/split),2)\n",
    "print(f\"Each person should pay: {tip2}\")\n"
   ]
  },
  {
   "cell_type": "code",
   "execution_count": null,
   "id": "d35d7409",
   "metadata": {},
   "outputs": [],
   "source": []
  }
 ],
 "metadata": {
  "kernelspec": {
   "display_name": "Python 3",
   "language": "python",
   "name": "python3"
  },
  "language_info": {
   "codemirror_mode": {
    "name": "ipython",
    "version": 3
   },
   "file_extension": ".py",
   "mimetype": "text/x-python",
   "name": "python",
   "nbconvert_exporter": "python",
   "pygments_lexer": "ipython3",
   "version": "3.6.5"
  }
 },
 "nbformat": 4,
 "nbformat_minor": 5
}
