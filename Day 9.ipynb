{
 "cells": [
  {
   "cell_type": "code",
   "execution_count": 7,
   "id": "f445f9c8",
   "metadata": {},
   "outputs": [
    {
     "name": "stdout",
     "output_type": "stream",
     "text": [
      "Java is a popular programming language. Java is used to develop mobile apps, web apps, desktop apps, games and much more.\n"
     ]
    }
   ],
   "source": [
    "#dictionary\n",
    "definitions={\"Python\":\"Python is a popular programming language. Python can be used on a server to create web applications\",\n",
    "             \"Java\":\"Java is a popular programming language. Java is used to develop mobile apps, web apps, desktop apps, games and much more.\"}\n",
    "a=definitions[\"Java\"]\n",
    "print(a)"
   ]
  },
  {
   "cell_type": "code",
   "execution_count": 8,
   "id": "702a69e2",
   "metadata": {},
   "outputs": [
    {
     "name": "stdout",
     "output_type": "stream",
     "text": [
      "{'Python': 'Python is a popular programming language. Python can be used on a server to create web applications', 'Java': 'Java is a popular programming language. Java is used to develop mobile apps, web apps, desktop apps, games and much more.', 'C': 'C is a general-purpose programming language created by Dennis Ritchie at the Bell Laboratories in 1972.'}\n"
     ]
    }
   ],
   "source": [
    "definitions[\"C\"]=\"C is a general-purpose programming language created by Dennis Ritchie at the Bell Laboratories in 1972.\"\n",
    "print(definitions)"
   ]
  },
  {
   "cell_type": "code",
   "execution_count": 9,
   "id": "ca065cb9",
   "metadata": {},
   "outputs": [],
   "source": [
    "empty_dictionary={}"
   ]
  },
  {
   "cell_type": "code",
   "execution_count": 4,
   "id": "4c37c1e6",
   "metadata": {},
   "outputs": [
    {
     "name": "stdout",
     "output_type": "stream",
     "text": [
      "{}\n"
     ]
    }
   ],
   "source": [
    "#definitions={}\n",
    "#print(definitions)"
   ]
  },
  {
   "cell_type": "code",
   "execution_count": 10,
   "id": "f1e8d0e6",
   "metadata": {},
   "outputs": [
    {
     "name": "stdout",
     "output_type": "stream",
     "text": [
      "{'Python': 'Python is a popular programming language. Python can be used on a server to create web applications', 'Java': 'Java is a high-level, class-based, object-oriented programming language that is designed to have as few implementation dependencies as possible.', 'C': 'C is a general-purpose programming language created by Dennis Ritchie at the Bell Laboratories in 1972.'}\n"
     ]
    }
   ],
   "source": [
    "definitions[\"Java\"]=\"Java is a high-level, class-based, object-oriented programming language that is designed to have as few implementation dependencies as possible.\"\n",
    "print(definitions)"
   ]
  },
  {
   "cell_type": "code",
   "execution_count": 12,
   "id": "818a91df",
   "metadata": {},
   "outputs": [
    {
     "name": "stdout",
     "output_type": "stream",
     "text": [
      "Python\n",
      "Python is a popular programming language. Python can be used on a server to create web applications\n",
      "Java\n",
      "Java is a high-level, class-based, object-oriented programming language that is designed to have as few implementation dependencies as possible.\n",
      "C\n",
      "C is a general-purpose programming language created by Dennis Ritchie at the Bell Laboratories in 1972.\n"
     ]
    }
   ],
   "source": [
    "for key in definitions:\n",
    "    print(key)\n",
    "    print(definitions[key])"
   ]
  },
  {
   "cell_type": "code",
   "execution_count": 13,
   "id": "15c61721",
   "metadata": {},
   "outputs": [
    {
     "name": "stdout",
     "output_type": "stream",
     "text": [
      "{'Harry': 'Exceeds Expectations', 'Ron': 'Acceptable', 'Hermione': 'Outstanding', 'Draco': 'Acceptable', 'Neville': 'Fail'}\n"
     ]
    }
   ],
   "source": [
    "student_scores = {\n",
    "  \"Harry\": 81,\n",
    "  \"Ron\": 78,\n",
    "  \"Hermione\": 99, \n",
    "  \"Draco\": 74,\n",
    "  \"Neville\": 62,\n",
    "}\n",
    "student_grades={}\n",
    "for key in student_scores:\n",
    "  if student_scores[key]>=91:\n",
    "    student_grades[key]=\"Outstanding\"\n",
    "  elif student_scores[key]>=81:\n",
    "    student_grades[key]=\"Exceeds Expectations\"\n",
    "  elif student_scores[key]>=71:\n",
    "    student_grades[key]=\"Acceptable\"\n",
    "  else:\n",
    "    student_grades[key]=\"Fail\"\n",
    "print(student_grades)"
   ]
  },
  {
   "cell_type": "code",
   "execution_count": 16,
   "id": "68e1a265",
   "metadata": {},
   "outputs": [
    {
     "name": "stdout",
     "output_type": "stream",
     "text": [
      "{'France': {'cities_visited': ['Paris', 'Lille', 'Dijon'], 'total_visits': 12}, 'Germany': ['Berlin', 'Hamburg', 'Stuttgart']}\n"
     ]
    }
   ],
   "source": [
    "#nesting lists and dictionaries in a dictionary\n",
    "capitals={\n",
    "    \"France\":\"Paris\",\n",
    "    \"Germany\":\"Berlin\",\n",
    "}\n",
    "travel_log={\n",
    "    \"France\":{\"cities_visited\":[\"Paris\",\"Lille\",\"Dijon\"],\"total_visits\":12},\n",
    "    \"Germany\":[\"Berlin\",\"Hamburg\",\"Stuttgart\"],\n",
    "}\n",
    "print(travel_log)"
   ]
  },
  {
   "cell_type": "code",
   "execution_count": 18,
   "id": "e55f8459",
   "metadata": {},
   "outputs": [
    {
     "name": "stdout",
     "output_type": "stream",
     "text": [
      "['Paris', 'Lille', 'Dijon']\n"
     ]
    }
   ],
   "source": [
    "#nesting dictionaries in a list\n",
    "travel_log=[\n",
    "    {\n",
    "        \"country\":\"France\",\n",
    "        \"cities_visited\":[\"Paris\",\"Lille\",\"Dijon\"],\n",
    "        \"total_visits\":12\n",
    "    },\n",
    "    {\n",
    "        \"country\":\"Germany\",\n",
    "        \"cities_visited\":[\"Berlin\",\"Hamburg\",\"Stuttgart\"],\n",
    "        \"total_visits\":5\n",
    "    }\n",
    "]\n",
    "print(travel_log[0][\"cities_visited\"])"
   ]
  },
  {
   "cell_type": "code",
   "execution_count": 1,
   "id": "f39d4723",
   "metadata": {},
   "outputs": [
    {
     "name": "stdout",
     "output_type": "stream",
     "text": [
      "Italy\n",
      "7\n",
      "[\"Venice\",\"Rome\",\"Florence\"]\n",
      "I've been to Italy 7 times.\n",
      "My favourite city was Venice.\n"
     ]
    }
   ],
   "source": [
    "country = input()\n",
    "visits = int(input())\n",
    "list_of_cities = eval(input())\n",
    "\n",
    "travel_log = [\n",
    "  {\n",
    "    \"country\": \"France\",\n",
    "    \"visits\": 12,\n",
    "    \"cities\": [\"Paris\", \"Lille\", \"Dijon\"]\n",
    "  },\n",
    "  {\n",
    "    \"country\": \"Germany\",\n",
    "    \"visits\": 5,\n",
    "    \"cities\": [\"Berlin\", \"Hamburg\", \"Stuttgart\"]\n",
    "  },\n",
    "]\n",
    "\n",
    "def add_new_country(a,b,c):\n",
    "  a=country\n",
    "  b=visits\n",
    "  c=list_of_cities\n",
    "  travel_log.append({\"country\":a,\"visits\":b,\"cities\":c})\n",
    "\n",
    "add_new_country(country, visits, list_of_cities)\n",
    "print(f\"I've been to {travel_log[2]['country']} {travel_log[2]['visits']} times.\")\n",
    "print(f\"My favourite city was {travel_log[2]['cities'][0]}.\")"
   ]
  },
  {
   "cell_type": "code",
   "execution_count": 7,
   "id": "87c9847d",
   "metadata": {},
   "outputs": [
    {
     "name": "stdout",
     "output_type": "stream",
     "text": [
      "What is your name? rst\n",
      "What is your bid? Rs.125\n",
      "Are there any other bidders? Type 'yes' or 'no.'\n",
      "no\n",
      "The winner is abc with a bid of Rs.350\n"
     ]
    }
   ],
   "source": [
    "#blind auction project\n",
    "from IPython.display import clear_output   #to clear console after each bid record to maintain anonymity \n",
    "logo = '''\n",
    "                         ___________\n",
    "                         \\         /\n",
    "                          )_______(\n",
    "                          |\"\"\"\"\"\"\"|_.-._,.---------.,_.-._\n",
    "                          |       | | |               | | ''-.\n",
    "                          |       |_| |_             _| |_..-'\n",
    "                          |_______| '-' `'---------'` '-'\n",
    "                          )\"\"\"\"\"\"\"(\n",
    "                         /_________\\\\\n",
    "                       .-------------.\n",
    "                      /_______________\\\\\n",
    "'''\n",
    "print(logo)\n",
    "bids={}\n",
    "bidding_finish=False\n",
    "\n",
    "def highest_bidder(record):\n",
    "    highest_bid=0\n",
    "    winner=\"\"\n",
    "    for bidder in record:\n",
    "        bid_amount=record[bidder]\n",
    "        if bid_amount>highest_bid:\n",
    "            highest_bid=bid_amount\n",
    "            winner=bidder\n",
    "    print(f\"The winner is {winner} with a bid of Rs.{highest_bid}\")\n",
    "\n",
    "while not bidding_finish:\n",
    "    name=input(\"What is your name? \")\n",
    "    price=int(input(\"What is your bid? Rs.\"))\n",
    "    bids[name]=price\n",
    "    should_continue=input(\"Are there any other bidders? Type 'yes' or 'no.'\\n\")\n",
    "    if should_continue==\"no\":\n",
    "        bidding_finish=True\n",
    "        highest_bidder(bids)\n",
    "    elif should_continue==\"yes\":\n",
    "        clear_output()\n",
    "    \n"
   ]
  }
 ],
 "metadata": {
  "kernelspec": {
   "display_name": "Python 3 (ipykernel)",
   "language": "python",
   "name": "python3"
  },
  "language_info": {
   "codemirror_mode": {
    "name": "ipython",
    "version": 3
   },
   "file_extension": ".py",
   "mimetype": "text/x-python",
   "name": "python",
   "nbconvert_exporter": "python",
   "pygments_lexer": "ipython3",
   "version": "3.11.5"
  }
 },
 "nbformat": 4,
 "nbformat_minor": 5
}
