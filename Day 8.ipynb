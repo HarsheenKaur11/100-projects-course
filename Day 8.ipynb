{
 "cells": [
  {
   "cell_type": "code",
   "execution_count": 4,
   "id": "d9f137c8",
   "metadata": {},
   "outputs": [
    {
     "name": "stdout",
     "output_type": "stream",
     "text": [
      "Hello Harsheen\n",
      "How are you?\n"
     ]
    }
   ],
   "source": [
    "#functions with parameters\n",
    "def greet(name):\n",
    "    print(\"Hello\",name)\n",
    "    print(\"How are you?\")\n",
    "greet(\"Harsheen\")"
   ]
  },
  {
   "cell_type": "code",
   "execution_count": 7,
   "id": "31a5edab",
   "metadata": {},
   "outputs": [
    {
     "name": "stdout",
     "output_type": "stream",
     "text": [
      "Hello Harsheen\n",
      "What is it like in Delhi\n"
     ]
    }
   ],
   "source": [
    "#positional arguement\n",
    "def greet_with(name,location):\n",
    "    print(\"Hello\",name)\n",
    "    print(\"What is it like in\",location)\n",
    "greet_with(\"Harsheen\",\"Delhi\")"
   ]
  },
  {
   "cell_type": "code",
   "execution_count": 1,
   "id": "a8725ca1",
   "metadata": {},
   "outputs": [
    {
     "name": "stdout",
     "output_type": "stream",
     "text": [
      "Hello Harsheen\n",
      "What is it like in Delhi\n"
     ]
    }
   ],
   "source": [
    "#keyword arguement\n",
    "def greet_with(name,location):\n",
    "    print(\"Hello\",name)\n",
    "    print(\"What is it like in\",location)\n",
    "greet_with(location=\"Delhi\",name=\"Harsheen\")"
   ]
  },
  {
   "cell_type": "code",
   "execution_count": 2,
   "id": "580dbff0",
   "metadata": {},
   "outputs": [
    {
     "name": "stdout",
     "output_type": "stream",
     "text": [
      "4\n",
      "5\n",
      "You'll need 4 cans of paint.\n"
     ]
    }
   ],
   "source": [
    "#paint can count\n",
    "def paint_calc(height,width,cover):\n",
    "  no=(height*width)/cover\n",
    "  import math\n",
    "  a=math.ceil(no)\n",
    "  print(f\"You'll need {a} cans of paint.\")\n",
    "test_h = int(input()) \n",
    "test_w = int(input()) \n",
    "coverage = 5\n",
    "paint_calc(height=test_h, width=test_w, cover=coverage)\n"
   ]
  },
  {
   "cell_type": "code",
   "execution_count": 4,
   "id": "0066c47a",
   "metadata": {},
   "outputs": [
    {
     "name": "stdout",
     "output_type": "stream",
     "text": [
      "7\n",
      "It's a prime number.\n"
     ]
    }
   ],
   "source": [
    "# prime number\n",
    "def prime_checker(number):\n",
    "  c=0\n",
    "  for i in range(1,(number+1)):\n",
    "    if number%i==0:\n",
    "      c=c+1\n",
    "    else:\n",
    "      pass\n",
    "  if (c==2):\n",
    "    print(\"It's a prime number.\")\n",
    "  else:\n",
    "    print(\"It's not a prime number.\")\n",
    "n = int(input())\n",
    "prime_checker(number=n)"
   ]
  },
  {
   "cell_type": "code",
   "execution_count": 2,
   "id": "2742bd3c",
   "metadata": {},
   "outputs": [
    {
     "name": "stdout",
     "output_type": "stream",
     "text": [
      "           \n",
      " ,adPPYba, ,adPPYYba,  ,adPPYba, ,adPPYba, ,adPPYYba, 8b,dPPYba,  \n",
      "a8\"     \"\" \"\"     `Y8 a8P_____88 I8[    \"\" \"\"     `Y8 88P'   \"Y8  \n",
      "8b         ,adPPPPP88 8PP\"  `\"Y8ba,  ,adPPPPP88 88          \n",
      "\"8a,   ,aa 88,    ,88 \"8b,   ,aa aa    ]8I 88,    ,88 88          \n",
      " `\"Ybbd8\"' `\"8bbdP\"Y8  `\"Ybbd8\"' `\"YbbdP\"' `\"8bbdP\"Y8 88   \n",
      "            88             88                                 \n",
      "           \"\"             88                                 \n",
      "                          88                                 \n",
      " ,adPPYba, 88 8b,dPPYba,  88,dPPYba,   ,adPPYba, 8b,dPPYba,  \n",
      "a8\"     \"\" 88 88P'    \"8a 88P'    \"8a a8P_____88 88P'   \"Y8  \n",
      "8b         88 88       d8 88       88 8PP\" 88          \n",
      "\"8a,   ,aa 88 88b,   ,a8\" 88       88 \"8b,   ,aa 88          \n",
      " `\"Ybbd8\"' 88 88`YbbdP\"'  88       88  `\"Ybbd8\"' 88          \n",
      "              88                                             \n",
      "              88           \n",
      "\n",
      "Type 'encode' to encrypt, type 'decode' to decrypt:\n",
      "encode\n",
      "Type your message:\n",
      "hello\n",
      "Type the shift number:\n",
      "5\n",
      "The encoded text is mjqqt.\n",
      "Type yes if you want to go again otherwise type no.\n",
      "yes\n",
      "Type 'encode' to encrypt, type 'decode' to decrypt:\n",
      "decode\n",
      "Type your message:\n",
      "mjqqt\n",
      "Type the shift number:\n",
      "5\n",
      "The decoded text is hello.\n",
      "Type yes if you want to go again otherwise type no.\n",
      "no\n",
      "Goodbye!\n"
     ]
    }
   ],
   "source": [
    "#caesar cipher project\n",
    "logo = \"\"\"           \n",
    " ,adPPYba, ,adPPYYba,  ,adPPYba, ,adPPYba, ,adPPYYba, 8b,dPPYba,  \n",
    "a8\"     \"\" \"\"     `Y8 a8P_____88 I8[    \"\" \"\"     `Y8 88P'   \"Y8  \n",
    "8b         ,adPPPPP88 8PP\"\"\"\"\"\"\"  `\"Y8ba,  ,adPPPPP88 88          \n",
    "\"8a,   ,aa 88,    ,88 \"8b,   ,aa aa    ]8I 88,    ,88 88          \n",
    " `\"Ybbd8\"' `\"8bbdP\"Y8  `\"Ybbd8\"' `\"YbbdP\"' `\"8bbdP\"Y8 88   \n",
    "            88             88                                 \n",
    "           \"\"             88                                 \n",
    "                          88                                 \n",
    " ,adPPYba, 88 8b,dPPYba,  88,dPPYba,   ,adPPYba, 8b,dPPYba,  \n",
    "a8\"     \"\" 88 88P'    \"8a 88P'    \"8a a8P_____88 88P'   \"Y8  \n",
    "8b         88 88       d8 88       88 8PP\"\"\"\"\"\"\" 88          \n",
    "\"8a,   ,aa 88 88b,   ,a8\" 88       88 \"8b,   ,aa 88          \n",
    " `\"Ybbd8\"' 88 88`YbbdP\"'  88       88  `\"Ybbd8\"' 88          \n",
    "              88                                             \n",
    "              88           \n",
    "\"\"\"\n",
    "print(logo)\n",
    "alphabet = ['a', 'b', 'c', 'd', 'e', 'f', 'g', 'h', 'i', 'j', 'k', 'l', 'm', 'n', 'o', 'p', 'q', 'r', 's', 't', 'u', 'v', 'w', 'x', 'y', 'z','a', 'b', 'c', 'd', 'e', 'f', 'g', 'h', 'i', 'j', 'k', 'l', 'm', 'n', 'o', 'p', 'q', 'r', 's', 't', 'u', 'v', 'w', 'x', 'y', 'z']\n",
    "\n",
    "def caesar(start_text,shift_amount,cipher_direction):\n",
    "    end_text=\"\"\n",
    "    if cipher_direction==\"decode\":\n",
    "            shift_amount*=-1\n",
    "    for char in start_text:\n",
    "        if char in alphabet:\n",
    "            position=alphabet.index(char)\n",
    "            new_position=position+shift_amount\n",
    "            end_text+=alphabet[new_position]\n",
    "        else:\n",
    "            end_text+=char\n",
    "    print(f\"The {cipher_direction}d text is {end_text}.\")\n",
    "\n",
    "should_continue=True\n",
    "while should_continue:\n",
    "    direction = input(\"Type 'encode' to encrypt, type 'decode' to decrypt:\\n\")\n",
    "    text = input(\"Type your message:\\n\").lower()\n",
    "    shift = int(input(\"Type the shift number:\\n\"))\n",
    "    shift=shift%26    \n",
    "    caesar(start_text=text,shift_amount=shift,cipher_direction=direction)\n",
    "    result=input(\"Type yes if you want to go again otherwise type no.\\n\")\n",
    "    if result==\"no\":\n",
    "        should_continue=False\n",
    "        print(\"Goodbye!\")"
   ]
  }
 ],
 "metadata": {
  "kernelspec": {
   "display_name": "Python 3 (ipykernel)",
   "language": "python",
   "name": "python3"
  },
  "language_info": {
   "codemirror_mode": {
    "name": "ipython",
    "version": 3
   },
   "file_extension": ".py",
   "mimetype": "text/x-python",
   "name": "python",
   "nbconvert_exporter": "python",
   "pygments_lexer": "ipython3",
   "version": "3.11.5"
  }
 },
 "nbformat": 4,
 "nbformat_minor": 5
}
