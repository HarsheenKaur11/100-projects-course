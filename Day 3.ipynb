{
 "cells": [
  {
   "cell_type": "code",
   "execution_count": 1,
   "id": "2ac34033",
   "metadata": {},
   "outputs": [
    {
     "name": "stdout",
     "output_type": "stream",
     "text": [
      "Welcome to Rollercoaster\n",
      "Enter height: 145\n",
      "You can ride\n"
     ]
    }
   ],
   "source": [
    "#control flow statements\n",
    "#if-else\n",
    "print(\"Welcome to Rollercoaster\")\n",
    "height=int(input(\"Enter height: \"))\n",
    "if height>120:\n",
    "    print(\"You can ride\")\n",
    "else:\n",
    "    print(\"Cannot ride\")"
   ]
  },
  {
   "cell_type": "code",
   "execution_count": 2,
   "id": "17888c81",
   "metadata": {},
   "outputs": [],
   "source": [
    "#Comparison operators\n",
    "# > greater than\n",
    "# < less than\n",
    "# >= greater than or equal to\n",
    "# <= less than or equal to\n",
    "# == equal to\n",
    "# != not equal to"
   ]
  },
  {
   "cell_type": "code",
   "execution_count": 7,
   "id": "e97102ce",
   "metadata": {},
   "outputs": [
    {
     "name": "stdout",
     "output_type": "stream",
     "text": [
      "Welcome to Rollercoaster\n",
      "Enter height: 145\n",
      "Enter age: 23\n",
      "You can ride\n",
      "Please pay rs 300\n"
     ]
    }
   ],
   "source": [
    "#nested if statements\n",
    "print(\"Welcome to Rollercoaster\")\n",
    "height=int(input(\"Enter height: \"))\n",
    "age=int(input(\"Enter age: \"))\n",
    "if height>120:\n",
    "    print(\"You can ride\")\n",
    "    if age<=18:\n",
    "        print(\"Please pay rs 200\")\n",
    "    else:\n",
    "        print(\"Please pay rs 300\")\n",
    "else:\n",
    "    print(\"Cannot ride\")"
   ]
  },
  {
   "cell_type": "code",
   "execution_count": 8,
   "id": "22b5b889",
   "metadata": {},
   "outputs": [
    {
     "name": "stdout",
     "output_type": "stream",
     "text": [
      "Welcome to Rollercoaster\n",
      "Enter height: 143\n",
      "Enter age: 10\n",
      "You can ride\n",
      "Please pay rs 150\n"
     ]
    }
   ],
   "source": [
    "#if elif and else condition\n",
    "print(\"Welcome to Rollercoaster\")\n",
    "height=int(input(\"Enter height: \"))\n",
    "age=int(input(\"Enter age: \"))\n",
    "if height>120:\n",
    "    print(\"You can ride\")\n",
    "    if age<12:\n",
    "        print(\"Please pay rs 150\")\n",
    "    elif age<=18:\n",
    "        print(\"Please pay rs 200\")\n",
    "    else:\n",
    "        print(\"Please pay rs 300\")\n",
    "else:\n",
    "    print(\"Cannot ride\")"
   ]
  },
  {
   "cell_type": "code",
   "execution_count": 9,
   "id": "7e60f8a4",
   "metadata": {},
   "outputs": [
    {
     "name": "stdout",
     "output_type": "stream",
     "text": [
      "Welcome to Rollercoaster\n",
      "Enter height: 145\n",
      "Enter age: 23\n",
      "You can ride\n",
      "Please pay rs 300\n",
      "do you want a photo taken? y or ny\n",
      "Your final bill is 350\n"
     ]
    }
   ],
   "source": [
    "#multiple if statements in succession\n",
    "#only one condition is done in if elif and elif but \n",
    "#all the conditions of if statements checks and executes if true\n",
    "#if elif and else condition\n",
    "print(\"Welcome to Rollercoaster\")\n",
    "height=int(input(\"Enter height: \"))\n",
    "age=int(input(\"Enter age: \"))\n",
    "if height>120:\n",
    "    print(\"You can ride\")\n",
    "    if age<12:\n",
    "        bill=150\n",
    "        print(\"Please pay rs 150\")\n",
    "    elif age<=18:\n",
    "        bill=200\n",
    "        print(\"Please pay rs 200\")\n",
    "    else:\n",
    "        bill=300\n",
    "        print(\"Please pay rs 300\")\n",
    "    ticket=input(\"do you want a photo taken? y or n\")\n",
    "    if ticket==\"y\":\n",
    "        bill=bill+50\n",
    "    print(f\"Your final bill is {bill}\")\n",
    "else:\n",
    "    print(\"Cannot ride\")"
   ]
  },
  {
   "cell_type": "code",
   "execution_count": 11,
   "id": "6a18cded",
   "metadata": {},
   "outputs": [],
   "source": [
    "#logical operators\n",
    "#and\n",
    "#or\n",
    "#not"
   ]
  },
  {
   "cell_type": "code",
   "execution_count": 2,
   "id": "22f2e963",
   "metadata": {},
   "outputs": [
    {
     "name": "stdout",
     "output_type": "stream",
     "text": [
      "\n",
      "\n",
      "     _.--\"\"--._\n",
      "    /  _    _   _  ( (_\\  /_) )  _\n",
      "{ \\._\\   /\\   /_./ }\n",
      "/_\"=-.}______{.-=\"_ _  _.=(\"\"\"\")=._  _\n",
      "(_'\"_.-\"`~~`\"-._\"'_)\n",
      " {_\"            \"_}\n",
      " \n",
      " \n",
      "You think you are can fight against the computer virus?\n",
      "Lets see...your goal is to choose the correct words that you might click on website and be assured of not getting a virus\n",
      "make a choice 'amazon.in' or 'amazon,in' amazon.in\n",
      "make a choice 'http://1234.com' or 'https://1234.com'https://1234.com\n",
      "a secured website on google helps you find whether your password is strong or not. will you try it? 'yes' or 'no'yes\n",
      "Your system has been hacked!\n",
      "   \n",
      "      ______________________________    . \\  | / .\n",
      "     /                            / \\     \\ \\ / /\n",
      "    |                            | ==========  - -\n",
      "     \\____________________________\\_/     / / \\   ______________________________      \\  | / |  /                            / \\     \\ \\ / /.   .\n",
      "|                            | ==========  - -\n",
      " \\____________________________\\_/     / / \\ \\    /\n",
      "      ______________________________   / |\\  | /  .\n",
      "     /                            / \\     \\ \\ / /\n",
      "    |                            | ==========  -  - -\n",
      "     \\____________________________\\_/     / / \\                                         .  / | \\  .\n"
     ]
    }
   ],
   "source": [
    "#final project\n",
    "#computer virus story game\n",
    "print('''\n",
    "\n",
    "     _.--\"\"--._\n",
    "    /  _    _  \\\n",
    " _  ( (_\\  /_) )  _\n",
    "{ \\._\\   /\\   /_./ }\n",
    "/_\"=-.}______{.-=\"_\\\n",
    " _  _.=(\"\"\"\")=._  _\n",
    "(_'\"_.-\"`~~`\"-._\"'_)\n",
    " {_\"            \"_}\n",
    " \n",
    " ''')\n",
    "print(\"You think you are can fight against the computer virus?\")\n",
    "print(\"Lets see...your goal is to choose the correct words that you might click on website and be assured of not getting a virus\")\n",
    "a=input(\"make a choice 'amazon.in' or 'amazon,in' \")\n",
    "b=input(\"make a choice 'http://1234.com' or 'https://1234.com'\")\n",
    "c=input(\"a secured website on google helps you find whether your password is strong or not. will you try it? 'yes' or 'no'\")\n",
    "if(a==\"amazon.in\" and b==\"https://1234.com\" and c==\"no\"):\n",
    "    print(\"You are safe for now. Continue to be vigilant\")\n",
    "else:\n",
    "    print(\"Your system has been hacked!\")\n",
    "    print('''   \n",
    "      ______________________________    . \\  | / .\n",
    "     /                            / \\     \\ \\ / /\n",
    "    |                            | ==========  - -\n",
    "     \\____________________________\\_/     / / \\ \\\n",
    "  ______________________________      \\  | / | \\\n",
    " /                            / \\     \\ \\ / /.   .\n",
    "|                            | ==========  - -\n",
    " \\____________________________\\_/     / / \\ \\    /\n",
    "      ______________________________   / |\\  | /  .\n",
    "     /                            / \\     \\ \\ / /\n",
    "    |                            | ==========  -  - -\n",
    "     \\____________________________\\_/     / / \\ \\\n",
    "                                        .  / | \\  .''')"
   ]
  },
  {
   "cell_type": "code",
   "execution_count": null,
   "id": "ff998c40",
   "metadata": {},
   "outputs": [],
   "source": []
  }
 ],
 "metadata": {
  "kernelspec": {
   "display_name": "Python 3",
   "language": "python",
   "name": "python3"
  },
  "language_info": {
   "codemirror_mode": {
    "name": "ipython",
    "version": 3
   },
   "file_extension": ".py",
   "mimetype": "text/x-python",
   "name": "python",
   "nbconvert_exporter": "python",
   "pygments_lexer": "ipython3",
   "version": "3.6.5"
  }
 },
 "nbformat": 4,
 "nbformat_minor": 5
}
