{
 "cells": [
  {
   "cell_type": "code",
   "execution_count": 34,
   "id": "d782d63b",
   "metadata": {},
   "outputs": [
    {
     "name": "stdout",
     "output_type": "stream",
     "text": [
      "10\n"
     ]
    }
   ],
   "source": [
    "#random module\n",
    "import random\n",
    "random_integer=random.randint(1,10)  #both 1 and 10 are included\n",
    "print(random_integer)"
   ]
  },
  {
   "cell_type": "code",
   "execution_count": 36,
   "id": "a1e69937",
   "metadata": {},
   "outputs": [
    {
     "name": "stdout",
     "output_type": "stream",
     "text": [
      "0.8692703164928183\n"
     ]
    }
   ],
   "source": [
    "random_float=random.random()  #from 0.0 to 1.0 where 0.0 is inclusive but 1.0 is exclusive\n",
    "print(random_float)"
   ]
  },
  {
   "cell_type": "code",
   "execution_count": 38,
   "id": "56310199",
   "metadata": {},
   "outputs": [
    {
     "name": "stdout",
     "output_type": "stream",
     "text": [
      "2.4948036114601146\n"
     ]
    }
   ],
   "source": [
    "random_float=random.random()*5  #no arguements can be taken in random function\n",
    "print(random_float)"
   ]
  },
  {
   "cell_type": "code",
   "execution_count": 39,
   "id": "6dd7b948",
   "metadata": {},
   "outputs": [
    {
     "name": "stdout",
     "output_type": "stream",
     "text": [
      "Your score is 36\n"
     ]
    }
   ],
   "source": [
    "score=random.randint(1,100)\n",
    "print(f\"Your score is {score}\")"
   ]
  },
  {
   "cell_type": "code",
   "execution_count": 40,
   "id": "207a9556",
   "metadata": {},
   "outputs": [
    {
     "name": "stdout",
     "output_type": "stream",
     "text": [
      "Tails\n"
     ]
    }
   ],
   "source": [
    "#Coin toss using random\n",
    "import random\n",
    "toss=random.randint(0,1)\n",
    "if toss==1:\n",
    "  print(\"Heads\")\n",
    "else:\n",
    "  print(\"Tails\")"
   ]
  },
  {
   "cell_type": "code",
   "execution_count": 53,
   "id": "3f23ab06",
   "metadata": {},
   "outputs": [
    {
     "name": "stdout",
     "output_type": "stream",
     "text": [
      "Delhi\n",
      "Kerala\n",
      "['Delhi', 'Punjab', 'Mumbai', 'Rajasthan', 'West Bengal', 'Assam', 'Kerala']\n",
      "['Delhi', 'Punjab', 'Mumbai', 'Rajasthan', 'West Bengal', 'Assam', 'Kerala', 'Tamil Nadu']\n",
      "['Delhi', 'Punjab', 'Mumbai', 'Rajasthan', 'West Bengal', 'Assam', 'Kerala', 'Tamil Nadu', 'Madhya Pradesh', 'Gujrat']\n"
     ]
    }
   ],
   "source": [
    "#list data structure in python \n",
    "#square brackets []\n",
    "states_of_India=[\"Delhi\",\"Punjab\",\"Mumbai\",\"Himachal Pradesh\",\"West Bengal\",\"Assam\",\"Kerala\"]\n",
    "print(states_of_India[0])\n",
    "print(states_of_India[-1])\n",
    "states_of_India[3]=\"Rajasthan\"\n",
    "print(states_of_India)\n",
    "states_of_India.append(\"Tamil Nadu\")   \n",
    "print(states_of_India)\n",
    "states_of_India.extend([\"Madhya Pradesh\",\"Gujrat\"])\n",
    "print(states_of_India)"
   ]
  },
  {
   "cell_type": "code",
   "execution_count": 57,
   "id": "eb681737",
   "metadata": {},
   "outputs": [
    {
     "name": "stdout",
     "output_type": "stream",
     "text": [
      "Enter names: aman, anuj, bhavya, sameer\n",
      "bhavya is going to buy the meal today!\n"
     ]
    }
   ],
   "source": [
    "names_string=input(\"Enter names: \")\n",
    "names = names_string.split(\", \")\n",
    "length1=len(names)\n",
    "length1=length1-1   #important step, dont forget!\n",
    "random_number=random.randint(0,length1)\n",
    "print(f\"{names[random_number]} is going to buy the meal today!\")"
   ]
  },
  {
   "cell_type": "code",
   "execution_count": 58,
   "id": "68849c54",
   "metadata": {},
   "outputs": [
    {
     "name": "stdout",
     "output_type": "stream",
     "text": [
      "[['Strawberries', 'Apples', 'Grapes', 'Cherries', 'Pears', 'Oranges'], ['Spinach', 'Kale', 'Tomatoes', 'Potatoes', 'Onion']]\n"
     ]
    }
   ],
   "source": [
    "#nested list\n",
    "fruits=[\"Strawberries\",\"Apples\",\"Grapes\",\"Cherries\",\"Pears\",\"Oranges\"]\n",
    "vegetables=[\"Spinach\",\"Kale\",\"Tomatoes\",\"Potatoes\",\"Onion\"]\n",
    "food=[fruits,vegetables] \n",
    "print(food)"
   ]
  },
  {
   "cell_type": "code",
   "execution_count": 60,
   "id": "98aab12a",
   "metadata": {},
   "outputs": [
    {
     "name": "stdout",
     "output_type": "stream",
     "text": [
      "Hiding your treasure! X marks the spot.\n",
      "B1\n",
      "['⬜️', 'X', '️⬜️']\n",
      "['⬜️', '⬜️', '️⬜️']\n",
      "['⬜️️', '⬜️️', '⬜️️']\n"
     ]
    }
   ],
   "source": [
    "#the treasure map project (long code)\n",
    "#matrix is like\n",
    "#  A  B  C\n",
    "#1 _  _  _\n",
    "#2 _  _  _\n",
    "#3 _  _  _\n",
    "line1 = [\"⬜️\",\"️⬜️\",\"️⬜️\"]\n",
    "line2 = [\"⬜️\",\"⬜️\",\"️⬜️\"]\n",
    "line3 = [\"⬜️️\",\"⬜️️\",\"⬜️️\"]\n",
    "map = [line1, line2, line3]\n",
    "print(\"Hiding your treasure! X marks the spot.\")\n",
    "position = input() # Where do you want to put the treasure?\n",
    "if position==\"A1\":\n",
    "  map[0][0]=\"X\"\n",
    "elif position==\"A2\":\n",
    "  map[1][0]=\"X\"\n",
    "elif position==\"A3\":\n",
    "  map[2][0]=\"X\"\n",
    "elif position==\"B1\":\n",
    "  map[0][1]=\"X\"\n",
    "elif position==\"B2\":\n",
    "  map[1][1]=\"X\"\n",
    "elif position==\"B3\":\n",
    "  map[2][1]=\"X\"\n",
    "elif position==\"C1\":\n",
    "  map[0][2]=\"X\"\n",
    "elif position==\"C2\":\n",
    "  map[1][2]=\"X\"\n",
    "else:\n",
    "  map[2][2]=\"X\"\n",
    "print(f\"{line1}\\n{line2}\\n{line3}\")"
   ]
  },
  {
   "cell_type": "code",
   "execution_count": 59,
   "id": "a383c8ca",
   "metadata": {},
   "outputs": [
    {
     "name": "stdout",
     "output_type": "stream",
     "text": [
      "Hiding your treasure! X marks the spot.\n",
      "A2\n",
      "['⬜️', '️⬜️', '️⬜️']\n",
      "['X', '⬜️', '️⬜️']\n",
      "['⬜️️', '⬜️️', '⬜️️']\n"
     ]
    }
   ],
   "source": [
    "#the treasure map project (shorter code)\n",
    "#matrix is like\n",
    "#  A  B  C\n",
    "#1 _  _  _\n",
    "#2 _  _  _\n",
    "#3 _  _  _\n",
    "line1 = [\"⬜️\",\"️⬜️\",\"️⬜️\"]\n",
    "line2 = [\"⬜️\",\"⬜️\",\"️⬜️\"]\n",
    "line3 = [\"⬜️️\",\"⬜️️\",\"⬜️️\"]\n",
    "map = [line1, line2, line3]\n",
    "print(\"Hiding your treasure! X marks the spot.\")\n",
    "position = input() # Where do you want to put the treasure?\n",
    "letter = position[0].lower()\n",
    "abc = [\"a\", \"b\", \"c\"]\n",
    "letter_index = abc.index(letter)\n",
    "number_index = int(position[1]) - 1\n",
    "map[number_index][letter_index] = \"X\"\n",
    "print(f\"{line1}\\n{line2}\\n{line3}\")"
   ]
  },
  {
   "cell_type": "code",
   "execution_count": 72,
   "id": "543afb52",
   "metadata": {},
   "outputs": [
    {
     "name": "stdout",
     "output_type": "stream",
     "text": [
      "What do you choose? Type 0 for Rock, 1 for Paper or 2 for Scissors.1\n",
      "\n",
      "    _______\n",
      "---'   ____)____\n",
      "          ______)\n",
      "          _______)\n",
      "         _______)\n",
      "---.__________)\n",
      "\n",
      "Computer Chose:\n",
      "\n",
      "    _______\n",
      "---'   ____)____\n",
      "          ______)\n",
      "          _______)\n",
      "         _______)\n",
      "---.__________)\n",
      "\n",
      "Its a draw!\n"
     ]
    }
   ],
   "source": [
    "#Rock paper scissors game\n",
    "rock = '''\n",
    "    _______\n",
    "---'   ____)\n",
    "      (_____)\n",
    "      (_____)\n",
    "      (____)\n",
    "---.__(___)\n",
    "'''\n",
    "\n",
    "paper = '''\n",
    "    _______\n",
    "---'   ____)____\n",
    "          ______)\n",
    "          _______)\n",
    "         _______)\n",
    "---.__________)\n",
    "'''\n",
    "\n",
    "scissors = '''\n",
    "    _______\n",
    "---'   ____)____\n",
    "          ______)\n",
    "       __________)\n",
    "      (____)\n",
    "---.__(___)\n",
    "'''\n",
    "l1=[rock,paper,scissors]\n",
    "choice=int(input(\"What do you choose? Type 0 for Rock, 1 for Paper or 2 for Scissors.\"))\n",
    "if choice>=3 or choice<0:\n",
    "    print(\"Wrong input\")\n",
    "else:\n",
    "    print(l1[choice])\n",
    "    random_integer=random.randint(0,2)\n",
    "    print(\"Computer Chose:\")\n",
    "    print(l1[random_integer])\n",
    "    if choice==0 and random_integer==2:\n",
    "        print(\"You win!\")\n",
    "    elif random_integer==0 and choice==2:\n",
    "        print(\"You lose\")\n",
    "    elif random_integer>choice:\n",
    "        print(\"You lose\")\n",
    "    elif choice>random_integer:\n",
    "        print(\"You win!\")\n",
    "    elif random_integer==choice:\n",
    "        print(\"Its a draw!\")\n",
    "\n",
    "    "
   ]
  }
 ],
 "metadata": {
  "kernelspec": {
   "display_name": "Python 3",
   "language": "python",
   "name": "python3"
  },
  "language_info": {
   "codemirror_mode": {
    "name": "ipython",
    "version": 3
   },
   "file_extension": ".py",
   "mimetype": "text/x-python",
   "name": "python",
   "nbconvert_exporter": "python",
   "pygments_lexer": "ipython3",
   "version": "3.6.5"
  }
 },
 "nbformat": 4,
 "nbformat_minor": 5
}
