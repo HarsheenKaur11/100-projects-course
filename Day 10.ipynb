{
 "cells": [
  {
   "cell_type": "code",
   "execution_count": 2,
   "id": "68bb1c66",
   "metadata": {},
   "outputs": [
    {
     "name": "stdout",
     "output_type": "stream",
     "text": [
      "6\n"
     ]
    }
   ],
   "source": [
    "#Functions with outputs\n",
    "def my_function():\n",
    "    result=3*2\n",
    "    return result\n",
    "output=my_function()\n",
    "print(output)"
   ]
  },
  {
   "cell_type": "code",
   "execution_count": 7,
   "id": "e02ff971",
   "metadata": {},
   "outputs": [
    {
     "name": "stdout",
     "output_type": "stream",
     "text": [
      "Harsheen Kaur\n"
     ]
    }
   ],
   "source": [
    "def format_name(fname,lname):\n",
    "    name=fname.title()+\" \"+lname.title()\n",
    "    return name  #return will be taken as the end of the function\n",
    "    print(\"Bye\") #does not prints\n",
    "n1=format_name(\"harsheen\",\"kaur\")\n",
    "print(n1)"
   ]
  },
  {
   "cell_type": "code",
   "execution_count": 10,
   "id": "577ed29c",
   "metadata": {},
   "outputs": [
    {
     "name": "stdout",
     "output_type": "stream",
     "text": [
      "Enter year: 2000\n",
      "Enter the month number: 2\n",
      "No. of days:  29\n"
     ]
    }
   ],
   "source": [
    "def is_leap(year):\n",
    "  if year % 4 == 0:\n",
    "    if year % 100 == 0:\n",
    "      if year % 400 == 0:\n",
    "        return True\n",
    "      else:\n",
    "        return False\n",
    "    else:\n",
    "      return True\n",
    "  else:\n",
    "    return False\n",
    "def days_in_month(year,month):\n",
    "  month_days = [31, 28, 31, 30, 31, 30, 31, 31, 30, 31, 30, 31] \n",
    "  if month==2 and is_leap(year):\n",
    "    return 29\n",
    "  else:\n",
    "    return month_days[month-1]\n",
    " \n",
    "year = int(input(\"Enter year: \")) \n",
    "month = int(input(\"Enter the month number: \")) \n",
    "days = days_in_month(year, month)\n",
    "print(\"No. of days: \",days)\n",
    "\n"
   ]
  },
  {
   "cell_type": "code",
   "execution_count": 12,
   "id": "1043861d",
   "metadata": {},
   "outputs": [
    {
     "data": {
      "text/plain": [
       "'Docstrings are used to create a multiline documented information,\\nto explain about the code. It is good to use these in the first line of function\\nto explain its use to another programmer reading your code.\\nIt is also used as multi line comments. But better way is to use hash in \\nmulti line comments too.'"
      ]
     },
     "execution_count": 12,
     "metadata": {},
     "output_type": "execute_result"
    }
   ],
   "source": [
    "#Docstrings\n",
    "\"\"\"Docstrings are used to create a multiline documented information,\n",
    "to explain about the code. It is good to use these in the first line of function\n",
    "to explain its use to another programmer reading your code.\n",
    "It is also used as multi line comments. But better way is to use hash in \n",
    "multi line comments too.\"\"\""
   ]
  },
  {
   "cell_type": "code",
   "execution_count": 4,
   "id": "a73ee8cc",
   "metadata": {},
   "outputs": [
    {
     "name": "stdout",
     "output_type": "stream",
     "text": [
      "\n",
      " _____________________\n",
      "|  _________________  |\n",
      "| | Pythonista   0. | |  .----------------.  .----------------.  .----------------.  .----------------. \n",
      "| |_________________| | | .--------------. || .--------------. || .--------------. || .--------------. |\n",
      "|  ___ ___ ___   ___  | | |     ______   | || |      __      | || |   _____      | || |     ______   | |\n",
      "| | 7 | 8 | 9 | | + | | | |   .' ___  |  | || |     /  \\     | || |  |_   _|     | || |   .' ___  |  | |\n",
      "| |___|___|___| |___| | | |  / .'   \\_|  | || |    / /\\ \\    | || |    | |       | || |  / .'   \\_|  | |\n",
      "| | 4 | 5 | 6 | | - | | | |  | |         | || |   / ____ \\   | || |    | |   _   | || |  | |         | |\n",
      "| |___|___|___| |___| | | |  \\ `.___.'\\  | || | _/ /    \\ \\_ | || |   _| |__/ |  | || |  \\ `.___.'\\  | |\n",
      "| | 1 | 2 | 3 | | x | | | |   `._____.'  | || ||____|  |____|| || |  |________|  | || |   `._____.'  | |\n",
      "| |___|___|___| |___| | | |              | || |              | || |              | || |              | |\n",
      "| | . | 0 | = | | / | | | '--------------' || '--------------' || '--------------' || '--------------' |\n",
      "| |___|___|___| |___| |  '----------------'  '----------------'  '----------------'  '----------------' \n",
      "|_____________________|\n",
      "\n",
      "Enter first number: 11\n",
      "+\n",
      "-\n",
      "*\n",
      "/\n",
      "Pick an operation from the line above: *\n",
      "Enter second number: 22\n",
      "11.0 * 22.0 = 242.0\n",
      "Type 'y' to continue calculating with 242.0 or type 'n' to start a new calculation or type 'e' to exit the code:y\n",
      "Pick an operation from the line above: /\n",
      "Enter second number: 3\n",
      "242.0 / 3.0 = 80.66666666666667\n",
      "Type 'y' to continue calculating with 80.66666666666667 or type 'n' to start a new calculation or type 'e' to exit the code:n\n",
      "Enter first number: 5\n",
      "+\n",
      "-\n",
      "*\n",
      "/\n",
      "Pick an operation from the line above: *\n",
      "Enter second number: 972\n",
      "5.0 * 972.0 = 4860.0\n",
      "Type 'y' to continue calculating with 4860.0 or type 'n' to start a new calculation or type 'e' to exit the code:e\n"
     ]
    }
   ],
   "source": [
    "#Calculator project\n",
    "logo = \"\"\"\n",
    " _____________________\n",
    "|  _________________  |\n",
    "| | Pythonista   0. | |  .----------------.  .----------------.  .----------------.  .----------------. \n",
    "| |_________________| | | .--------------. || .--------------. || .--------------. || .--------------. |\n",
    "|  ___ ___ ___   ___  | | |     ______   | || |      __      | || |   _____      | || |     ______   | |\n",
    "| | 7 | 8 | 9 | | + | | | |   .' ___  |  | || |     /  \\     | || |  |_   _|     | || |   .' ___  |  | |\n",
    "| |___|___|___| |___| | | |  / .'   \\_|  | || |    / /\\ \\    | || |    | |       | || |  / .'   \\_|  | |\n",
    "| | 4 | 5 | 6 | | - | | | |  | |         | || |   / ____ \\   | || |    | |   _   | || |  | |         | |\n",
    "| |___|___|___| |___| | | |  \\ `.___.'\\  | || | _/ /    \\ \\_ | || |   _| |__/ |  | || |  \\ `.___.'\\  | |\n",
    "| | 1 | 2 | 3 | | x | | | |   `._____.'  | || ||____|  |____|| || |  |________|  | || |   `._____.'  | |\n",
    "| |___|___|___| |___| | | |              | || |              | || |              | || |              | |\n",
    "| | . | 0 | = | | / | | | '--------------' || '--------------' || '--------------' || '--------------' |\n",
    "| |___|___|___| |___| |  '----------------'  '----------------'  '----------------'  '----------------' \n",
    "|_____________________|\n",
    "\"\"\"\n",
    "print(logo)\n",
    "def add(n1,n2):\n",
    "    return n1+n2\n",
    "def subtract(n1,n2):\n",
    "    return n1-n2\n",
    "def multiply(n1,n2):\n",
    "    return n1*n2\n",
    "def divide(n1,n2):\n",
    "    return n1/n2\n",
    "operations={\"+\":add,\"-\":subtract,\"*\":multiply,\"/\":divide}\n",
    "\n",
    "def calculator():\n",
    "    num1=float(input(\"Enter first number: \"))\n",
    "    for symbol in operations:\n",
    "        print(symbol)\n",
    "    should_continue=True\n",
    "    while should_continue:\n",
    "        choice=input(\"Pick an operation from the line above: \")\n",
    "        num2=float(input(\"Enter second number: \"))\n",
    "        calculation=operations[choice]\n",
    "        answer=calculation(num1,num2)\n",
    "        print(f\"{num1} {choice} {num2} = {answer}\")\n",
    "        option=input(f\"Type 'y' to continue calculating with {answer} or type 'n' to start a new calculation or type 'e' to exit the code:\")\n",
    "        if option==\"y\":\n",
    "            num1=answer\n",
    "        elif option=='e':\n",
    "            should_continue=False\n",
    "        else:\n",
    "            should_continue=False\n",
    "            calculator()\n",
    "should_continue=True\n",
    "if should_continue==False:\n",
    "    exit\n",
    "else:\n",
    "    calculator()\n"
   ]
  }
 ],
 "metadata": {
  "kernelspec": {
   "display_name": "Python 3 (ipykernel)",
   "language": "python",
   "name": "python3"
  },
  "language_info": {
   "codemirror_mode": {
    "name": "ipython",
    "version": 3
   },
   "file_extension": ".py",
   "mimetype": "text/x-python",
   "name": "python",
   "nbconvert_exporter": "python",
   "pygments_lexer": "ipython3",
   "version": "3.11.5"
  }
 },
 "nbformat": 4,
 "nbformat_minor": 5
}
