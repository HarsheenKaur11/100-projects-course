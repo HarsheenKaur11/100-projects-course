{
 "cells": [
  {
   "cell_type": "code",
   "execution_count": 1,
   "id": "67279bfc",
   "metadata": {},
   "outputs": [
    {
     "name": "stdout",
     "output_type": "stream",
     "text": [
      "Apple\n",
      "Orange\n",
      "Pear\n"
     ]
    }
   ],
   "source": [
    "#for loop\n",
    "fruits=[\"Apple\",\"Orange\",\"Pear\"]\n",
    "for i in fruits:\n",
    "    print(i)"
   ]
  },
  {
   "cell_type": "code",
   "execution_count": 3,
   "id": "8a90c0ce",
   "metadata": {},
   "outputs": [
    {
     "name": "stdout",
     "output_type": "stream",
     "text": [
      "153 148 150\n",
      "total height = 451\n",
      "number of students = 3\n",
      "average height = 150\n"
     ]
    }
   ],
   "source": [
    "#average student heights (without inbuilt functions like sum)\n",
    "student_heights = input().split()\n",
    "for n in range(0, len(student_heights)):\n",
    "    student_heights[n] = int(student_heights[n])\n",
    "total=0\n",
    "count=0\n",
    "for i in student_heights:\n",
    "    total+=i\n",
    "    count=count+1\n",
    "avg=round(total/count) \n",
    "print(f\"total height = {total}\")\n",
    "print(f\"number of students = {count}\")\n",
    "print(f\"average height = {avg}\")"
   ]
  },
  {
   "cell_type": "code",
   "execution_count": 4,
   "id": "2937a2fc",
   "metadata": {},
   "outputs": [
    {
     "name": "stdout",
     "output_type": "stream",
     "text": [
      "92 75 67 85 40 95\n",
      "The highest score in the class is: 95\n"
     ]
    }
   ],
   "source": [
    "#highest student score(without inbuilt max function)\n",
    "student_scores = input().split()\n",
    "for n in range(0, len(student_scores)):\n",
    "    student_scores[n] = int(student_scores[n])\n",
    "max1=0\n",
    "for i in student_scores:\n",
    "    if i>max1:\n",
    "        max1=i\n",
    "    else:\n",
    "        continue\n",
    "print(f\"The highest score in the class is: {max1}\")"
   ]
  },
  {
   "cell_type": "code",
   "execution_count": 6,
   "id": "31452c74",
   "metadata": {},
   "outputs": [
    {
     "name": "stdout",
     "output_type": "stream",
     "text": [
      "1\n",
      "4\n",
      "7\n",
      "10\n"
     ]
    }
   ],
   "source": [
    "#range function in for loop\n",
    "for number in range(1,11,3):    #end in range exclusive\n",
    "    print(number)"
   ]
  },
  {
   "cell_type": "code",
   "execution_count": 7,
   "id": "c52bfea0",
   "metadata": {},
   "outputs": [
    {
     "name": "stdout",
     "output_type": "stream",
     "text": [
      "5050\n"
     ]
    }
   ],
   "source": [
    "total=0\n",
    "for number in range(1,101):\n",
    "    total+=number\n",
    "print(total)"
   ]
  },
  {
   "cell_type": "code",
   "execution_count": 9,
   "id": "62f3d64a",
   "metadata": {},
   "outputs": [
    {
     "name": "stdout",
     "output_type": "stream",
     "text": [
      "10\n",
      "30\n"
     ]
    }
   ],
   "source": [
    "#sum of even numbers \n",
    "target = int(input())\n",
    "total=0\n",
    "for number in range(0,target+1,2):\n",
    "    total+=number\n",
    "print(total)"
   ]
  },
  {
   "cell_type": "code",
   "execution_count": 10,
   "id": "dfd443c3",
   "metadata": {},
   "outputs": [
    {
     "name": "stdout",
     "output_type": "stream",
     "text": [
      "1\n",
      "2\n",
      "Fizz\n",
      "4\n",
      "Buzz\n",
      "Fizz\n",
      "7\n",
      "8\n",
      "Fizz\n",
      "Buzz\n",
      "11\n",
      "Fizz\n",
      "13\n",
      "14\n",
      "FizzBuzz\n",
      "16\n",
      "17\n",
      "Fizz\n",
      "19\n",
      "Buzz\n",
      "Fizz\n",
      "22\n",
      "23\n",
      "Fizz\n",
      "Buzz\n",
      "26\n",
      "Fizz\n",
      "28\n",
      "29\n",
      "FizzBuzz\n",
      "31\n",
      "32\n",
      "Fizz\n",
      "34\n",
      "Buzz\n",
      "Fizz\n",
      "37\n",
      "38\n",
      "Fizz\n",
      "Buzz\n",
      "41\n",
      "Fizz\n",
      "43\n",
      "44\n",
      "FizzBuzz\n",
      "46\n",
      "47\n",
      "Fizz\n",
      "49\n",
      "Buzz\n",
      "Fizz\n",
      "52\n",
      "53\n",
      "Fizz\n",
      "Buzz\n",
      "56\n",
      "Fizz\n",
      "58\n",
      "59\n",
      "FizzBuzz\n",
      "61\n",
      "62\n",
      "Fizz\n",
      "64\n",
      "Buzz\n",
      "Fizz\n",
      "67\n",
      "68\n",
      "Fizz\n",
      "Buzz\n",
      "71\n",
      "Fizz\n",
      "73\n",
      "74\n",
      "FizzBuzz\n",
      "76\n",
      "77\n",
      "Fizz\n",
      "79\n",
      "Buzz\n",
      "Fizz\n",
      "82\n",
      "83\n",
      "Fizz\n",
      "Buzz\n",
      "86\n",
      "Fizz\n",
      "88\n",
      "89\n",
      "FizzBuzz\n",
      "91\n",
      "92\n",
      "Fizz\n",
      "94\n",
      "Buzz\n",
      "Fizz\n",
      "97\n",
      "98\n",
      "Fizz\n",
      "Buzz\n"
     ]
    }
   ],
   "source": [
    "#fizzbuzz game\n",
    "for i in range(1,101):\n",
    "    if i%3==0 and i%5==0:   #this condition must be at top and not divisible by only 3 condition or only 5 condition\n",
    "        print(\"FizzBuzz\")\n",
    "    elif i%3==0:\n",
    "        print(\"Fizz\")\n",
    "    elif i%5==0:\n",
    "        print(\"Buzz\")\n",
    "    else:\n",
    "        print(i)"
   ]
  },
  {
   "cell_type": "code",
   "execution_count": 17,
   "id": "f0365a00",
   "metadata": {},
   "outputs": [
    {
     "name": "stdout",
     "output_type": "stream",
     "text": [
      "Welcome to the Password Generator!\n",
      "How many letters would you like in your password?\n",
      "5\n",
      "How many symbols would you like?\n",
      "3\n",
      "How many numbers would you like?\n",
      "2\n",
      "['%', 'n', '5', ')', 'C', 'X', '7', 't', '(', 'O']\n",
      "Your pass word is: %n5)CX7t(O\n"
     ]
    }
   ],
   "source": [
    "#password generator program\n",
    "import random\n",
    "letters = ['a', 'b', 'c', 'd', 'e', 'f', 'g', 'h', 'i', 'j', 'k', 'l', 'm', 'n', 'o', 'p', 'q', 'r', 's', 't', 'u', 'v', 'w', 'x', 'y', 'z', 'A', 'B', 'C', 'D', 'E', 'F', 'G', 'H', 'I', 'J', 'K', 'L', 'M', 'N', 'O', 'P', 'Q', 'R', 'S', 'T', 'U', 'V', 'W', 'X', 'Y', 'Z']\n",
    "numbers = ['0', '1', '2', '3', '4', '5', '6', '7', '8', '9']\n",
    "symbols = ['!', '#', '$', '%', '&', '(', ')', '*', '+']\n",
    "print(\"Welcome to the Password Generator!\")\n",
    "nr_letters= int(input(\"How many letters would you like in your password?\\n\")) \n",
    "nr_symbols = int(input(f\"How many symbols would you like?\\n\"))\n",
    "nr_numbers = int(input(f\"How many numbers would you like?\\n\"))\n",
    "\n",
    "#easy level(password in certain format letters, symbols and then numbers)\n",
    "# password=\"\"\n",
    "# for i in range(1,nr_letters+1):\n",
    "#     password+=random.choice(letters)\n",
    "# for i in range(1,nr_symbols+1):\n",
    "#     password+=random.choice(symbols)\n",
    "# for i in range(1,nr_numbers+1):\n",
    "#     password+=random.choice(numbers)\n",
    "# print(password)\n",
    "\n",
    "\n",
    "#hard level(password in mixed format)\n",
    "password_list=[]\n",
    "for i in range(1,nr_letters+1):\n",
    "    password_list.append(random.choice(letters))\n",
    "for i in range(1,nr_symbols+1):\n",
    "    password_list.append(random.choice(symbols))\n",
    "for i in range(1,nr_numbers+1):\n",
    "    password_list.append(random.choice(numbers))\n",
    "random.shuffle(password_list)    #IMPORTANT: to randomly change order of members of list\n",
    "print(password_list)   #Can be commented\n",
    "password=\"\"\n",
    "for ch in password_list:\n",
    "    password+=ch\n",
    "print(f\"Your pass word is: {password}\")"
   ]
  }
 ],
 "metadata": {
  "kernelspec": {
   "display_name": "Python 3",
   "language": "python",
   "name": "python3"
  },
  "language_info": {
   "codemirror_mode": {
    "name": "ipython",
    "version": 3
   },
   "file_extension": ".py",
   "mimetype": "text/x-python",
   "name": "python",
   "nbconvert_exporter": "python",
   "pygments_lexer": "ipython3",
   "version": "3.6.5"
  }
 },
 "nbformat": 4,
 "nbformat_minor": 5
}
